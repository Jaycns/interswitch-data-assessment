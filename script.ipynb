{
 "cells": [
  {
   "cell_type": "code",
   "execution_count": 20,
   "metadata": {},
   "outputs": [],
   "source": [
    "# import modules\n",
    "import pyspark\n",
    "from pyspark.sql import SparkSession\n",
    "from pyspark.sql.functions import col, expr, substring, create_map, lit, udf, concat_ws\n",
    "from pyspark.sql.types import StringType\n",
    "from itertools import chain\n",
    "\n",
    "#import created module from parent directory\n",
    "import map as m"
   ]
  },
  {
   "cell_type": "code",
   "execution_count": 21,
   "metadata": {},
   "outputs": [],
   "source": [
    "# create spark session\n",
    "spark = SparkSession.builder \\\n",
    "    .master(\"local[*]\") \\\n",
    "    .appName('Interswitch') \\\n",
    "    .getOrCreate()"
   ]
  },
  {
   "cell_type": "code",
   "execution_count": 22,
   "metadata": {},
   "outputs": [],
   "source": [
    "# read the dataset\n",
    "df = spark.read \\\n",
    "    .text('dec17pub.dat')"
   ]
  },
  {
   "cell_type": "code",
   "execution_count": 35,
   "metadata": {},
   "outputs": [
    {
     "name": "stdout",
     "output_type": "stream",
     "text": [
      "+--------------------+\n",
      "|               value|\n",
      "+--------------------+\n",
      "|00000479511071912...|\n",
      "|00000479511071912...|\n",
      "|00007169100494112...|\n",
      "|00007169100494112...|\n",
      "|00007169100494112...|\n",
      "|00011017798798612...|\n",
      "|00011017798798612...|\n",
      "|00011020659338112...|\n",
      "|00011028481568012...|\n",
      "|00011032785646912...|\n",
      "+--------------------+\n",
      "only showing top 10 rows\n",
      "\n"
     ]
    }
   ],
   "source": [
    "# show the first 20 rows\n",
    "df.show(10)"
   ]
  },
  {
   "cell_type": "code",
   "execution_count": 24,
   "metadata": {},
   "outputs": [],
   "source": [
    "# select specified columns\n",
    "df2 = df.select(\n",
    "    (substring('value', 1, 15)).alias(\"household_identifier\"),\\\n",
    "    (substring('value', 18, 4)).alias(\"year_of_interview\"),\\\n",
    "    (substring('value', 16, 2)).alias(\"month_of_interview\"),\\\n",
    "    (substring('value', 24, 3)).alias(\"final_outcome_code\"),\\\n",
    "    (substring('value', 31, 2)).alias(\"type_of_housing_unit\"),\\\n",
    "    (substring('value', 61, 2)).alias(\"household_type\"),\\\n",
    "    (substring('value', 33, 2)).alias(\"apartment_has_telephone\"),\\\n",
    "    (substring('value', 35, 2)).alias(\"access_telephone_elsewhere\"),\\\n",
    "    (substring('value', 37, 2)).alias(\"telephone_interview_acceptable\"),\\\n",
    "    (substring('value', 65, 2)).alias(\"type_of_interview\"),\\\n",
    "    (substring('value', 39, 2)).alias(\"family_income\"),\\\n",
    "    (substring('value', 89, 2)).alias(\"geographic_information\"),\\\n",
    "    (substring('value', 139, 2)).alias(\"race\")\n",
    ")"
   ]
  },
  {
   "cell_type": "code",
   "execution_count": 25,
   "metadata": {},
   "outputs": [
    {
     "name": "stdout",
     "output_type": "stream",
     "text": [
      "+--------------------+-----------------+------------------+------------------+--------------------+--------------+-----------------------+--------------------------+------------------------------+-----------------+-------------+----------------------+----+\n",
      "|household_identifier|year_of_interview|month_of_interview|final_outcome_code|type_of_housing_unit|household_type|apartment_has_telephone|access_telephone_elsewhere|telephone_interview_acceptable|type_of_interview|family_income|geographic_information|race|\n",
      "+--------------------+-----------------+------------------+------------------+--------------------+--------------+-----------------------+--------------------------+------------------------------+-----------------+-------------+----------------------+----+\n",
      "|     000004795110719|             2017|                12|               201|                   1|             1|                      1|                        -1|                             1|                2|            9|                     3|   1|\n",
      "|     000004795110719|             2017|                12|               201|                   1|             1|                      1|                        -1|                             1|                2|            9|                     3|   1|\n",
      "|     000071691004941|             2017|                12|               201|                   1|             1|                      1|                        -1|                             1|                1|           11|                     3|   1|\n",
      "|     000071691004941|             2017|                12|               201|                   1|             1|                      1|                        -1|                             1|                1|           11|                     3|   1|\n",
      "|     000071691004941|             2017|                12|               201|                   1|             1|                      1|                        -1|                             1|                1|           11|                     3|   1|\n",
      "|     000110177987986|             2017|                12|               201|                   1|             1|                      1|                        -1|                             1|                1|           14|                     3|   2|\n",
      "|     000110177987986|             2017|                12|               201|                   1|             1|                      1|                        -1|                             1|                1|           14|                     3|   2|\n",
      "|     000110206593381|             2017|                12|               213|                   1|             0|                     -1|                        -1|                             0|                1|           -1|                     3|  -1|\n",
      "|     000110284815680|             2017|                12|               201|                   1|             7|                      1|                        -1|                             1|                1|            9|                     3|   1|\n",
      "|     000110327856469|             2017|                12|               201|                   1|             7|                      1|                        -1|                             1|                1|            5|                     3|   2|\n",
      "|     000110339935453|             2017|                12|               201|                   1|             4|                      1|                        -1|                             1|                2|           11|                     3|   2|\n",
      "|     000110339935453|             2017|                12|               201|                   1|             4|                      1|                        -1|                             1|                2|           11|                     3|   2|\n",
      "|     000110339935453|             2017|                12|               201|                   1|             4|                      1|                        -1|                             1|                2|           11|                     3|   2|\n",
      "|     000110339935453|             2017|                12|               201|                   1|             4|                      1|                        -1|                             1|                2|           11|                     3|   2|\n",
      "|     000110343868567|             2017|                12|               201|                   1|             1|                      1|                        -1|                             0|                1|           14|                     3|   1|\n",
      "|     000110343868567|             2017|                12|               201|                   1|             1|                      1|                        -1|                             0|                1|           14|                     3|   1|\n",
      "|     000110359424339|             2017|                12|               201|                   1|             4|                      1|                        -1|                             1|                1|           13|                     3|   2|\n",
      "|     000110359424339|             2017|                12|               201|                   1|             4|                      1|                        -1|                             1|                1|           13|                     3|   2|\n",
      "|     000110415400429|             2017|                12|               201|                   1|             1|                      1|                        -1|                             1|                1|           10|                     3|   1|\n",
      "|     000110415400429|             2017|                12|               201|                   1|             1|                      1|                        -1|                             1|                1|           10|                     3|   1|\n",
      "+--------------------+-----------------+------------------+------------------+--------------------+--------------+-----------------------+--------------------------+------------------------------+-----------------+-------------+----------------------+----+\n",
      "only showing top 20 rows\n",
      "\n"
     ]
    }
   ],
   "source": [
    "# show selection\n",
    "df2.show()"
   ]
  },
  {
   "cell_type": "code",
   "execution_count": 26,
   "metadata": {},
   "outputs": [],
   "source": [
    "# create expression of the values using created module\n",
    "outcome_expr = create_map([lit(x) for x in chain(*m.outcome_map.items())])\n",
    "housing_expr = create_map([lit(x) for x in chain(*m.housing_map.items())])\n",
    "housing_t_expr = create_map([lit(x) for x in chain(*m.housing_t_map.items())])\n",
    "yes_no_expr = create_map([lit(x) for x in chain(*m.yes_no_map.items())])\n",
    "interview_expr = create_map([lit(x) for x in chain(*m.interview_map.items())])\n",
    "income_expr = create_map([lit(x) for x in chain(*m.income_map.items())])\n",
    "geography_expr = create_map([lit(x) for x in chain(*m.geography_map.items())])\n",
    "race_expr = create_map([lit(x) for x in chain(*m.race_map.items())])"
   ]
  },
  {
   "cell_type": "code",
   "execution_count": 27,
   "metadata": {},
   "outputs": [],
   "source": [
    "# decoding the data\n",
    "df3 = df2.withColumn('time_of_interview', concat_ws('/',df2.year_of_interview,df2.month_of_interview))\\\n",
    "    .withColumn('final_outcome_code', outcome_expr[df2['final_outcome_code']])\\\n",
    "    .withColumn('type_of_housing_unit', housing_expr[df2['type_of_housing_unit']])\\\n",
    "    .withColumn('household_type', housing_t_expr[df2['household_type']])\\\n",
    "    .withColumn('apartment_has_telephone', yes_no_expr[df2['apartment_has_telephone']])\\\n",
    "    .withColumn('access_telephone_elsewhere', yes_no_expr[df2['access_telephone_elsewhere']])\\\n",
    "    .withColumn('telephone_interview_acceptable', yes_no_expr[df2['telephone_interview_acceptable']])\\\n",
    "    .withColumn('type_of_interview', interview_expr[df2['type_of_interview']])\\\n",
    "    .withColumn('family_income', income_expr[df2['family_income']])\\\n",
    "    .withColumn('geographic_information', geography_expr[df2['geographic_information']])\\\n",
    "    .withColumn('race', race_expr[df2['race']])\\\n",
    "    .select('household_identifier','time_of_interview','final_outcome_code','type_of_housing_unit','household_type',\n",
    "            'apartment_has_telephone','access_telephone_elsewhere','telephone_interview_acceptable',\n",
    "            'type_of_interview','family_income','geographic_information','race')"
   ]
  },
  {
   "cell_type": "code",
   "execution_count": 28,
   "metadata": {},
   "outputs": [
    {
     "name": "stdout",
     "output_type": "stream",
     "text": [
      "+--------------------+-----------------+------------------+--------------------+--------------------+-----------------------+--------------------------+------------------------------+-----------------+------------------+----------------------+----------+\n",
      "|household_identifier|time_of_interview|final_outcome_code|type_of_housing_unit|      household_type|apartment_has_telephone|access_telephone_elsewhere|telephone_interview_acceptable|type_of_interview|     family_income|geographic_information|      race|\n",
      "+--------------------+-----------------+------------------+--------------------+--------------------+-----------------------+--------------------------+------------------------------+-----------------+------------------+----------------------+----------+\n",
      "|     000004795110719|          2017/12|     CAPI complete|House, apartment,...|Husband/wife prim...|                    Yes|                      null|                           Yes|        Telephone|$30,000 to $34,999|                 South|White Only|\n",
      "|     000004795110719|          2017/12|     CAPI complete|House, apartment,...|Husband/wife prim...|                    Yes|                      null|                           Yes|        Telephone|$30,000 to $34,999|                 South|White Only|\n",
      "|     000071691004941|          2017/12|     CAPI complete|House, apartment,...|Husband/wife prim...|                    Yes|                      null|                           Yes|         Personal|$40,000 to $49,999|                 South|White Only|\n",
      "|     000071691004941|          2017/12|     CAPI complete|House, apartment,...|Husband/wife prim...|                    Yes|                      null|                           Yes|         Personal|$40,000 to $49,999|                 South|White Only|\n",
      "|     000071691004941|          2017/12|     CAPI complete|House, apartment,...|Husband/wife prim...|                    Yes|                      null|                           Yes|         Personal|$40,000 to $49,999|                 South|White Only|\n",
      "|     000110177987986|          2017/12|     CAPI complete|House, apartment,...|Husband/wife prim...|                    Yes|                      null|                           Yes|         Personal|$75,000 to $99,999|                 South|Black Only|\n",
      "|     000110177987986|          2017/12|     CAPI complete|House, apartment,...|Husband/wife prim...|                    Yes|                      null|                           Yes|         Personal|$75,000 to $99,999|                 South|Black Only|\n",
      "|     000110206593381|          2017/12|  Language barrier|House, apartment,...|Non-interview hou...|                   null|                      null|                          null|         Personal|              null|                 South|      null|\n",
      "|     000110284815680|          2017/12|     CAPI complete|House, apartment,...|Civilian female p...|                    Yes|                      null|                           Yes|         Personal|$30,000 to $34,999|                 South|White Only|\n",
      "|     000110327856469|          2017/12|     CAPI complete|House, apartment,...|Civilian female p...|                    Yes|                      null|                           Yes|         Personal|$12,500 to $14,999|                 South|Black Only|\n",
      "+--------------------+-----------------+------------------+--------------------+--------------------+-----------------------+--------------------------+------------------------------+-----------------+------------------+----------------------+----------+\n",
      "only showing top 10 rows\n",
      "\n"
     ]
    }
   ],
   "source": [
    "# showing the dataset\n",
    "df3.show(10)"
   ]
  },
  {
   "cell_type": "code",
   "execution_count": 29,
   "metadata": {},
   "outputs": [],
   "source": [
    "# creating spark sql table\n",
    "df3.createOrReplaceTempView('dec_cps')"
   ]
  },
  {
   "cell_type": "code",
   "execution_count": 30,
   "metadata": {},
   "outputs": [
    {
     "name": "stdout",
     "output_type": "stream",
     "text": [
      "+------+\n",
      "|number|\n",
      "+------+\n",
      "|146456|\n",
      "+------+\n",
      "\n"
     ]
    }
   ],
   "source": [
    "spark.sql(\"\"\"\n",
    "    SELECT COUNT(*) as number\n",
    "    FROM dec_cps\n",
    "\"\"\").show()"
   ]
  },
  {
   "cell_type": "markdown",
   "metadata": {},
   "source": [
    "1.\tWhat is the count of responders per family income range (show top 10)?"
   ]
  },
  {
   "cell_type": "code",
   "execution_count": 31,
   "metadata": {},
   "outputs": [
    {
     "name": "stdout",
     "output_type": "stream",
     "text": [
      "+--------------------+------+\n",
      "|       family_income|number|\n",
      "+--------------------+------+\n",
      "|$100,000 to $149,999| 17794|\n",
      "|  $75,000 to $99,999| 16557|\n",
      "|    $150,000 or more| 15704|\n",
      "|  $60,000 to $74,999| 13442|\n",
      "|  $50,000 to $59,999|  9971|\n",
      "|  $40,000 to $49,999|  9788|\n",
      "|  $30,000 to $34,999|  6743|\n",
      "|  $35,000 to $39,999|  6620|\n",
      "|  $20,000 to $24,999|  6312|\n",
      "|  $25,000 to $29,999|  5803|\n",
      "+--------------------+------+\n",
      "\n"
     ]
    }
   ],
   "source": [
    "spark.sql(\"\"\"\n",
    "    SELECT family_income, COUNT(*) as number\n",
    "    FROM dec_cps\n",
    "    WHERE family_income IS NOT NULL\n",
    "    GROUP BY family_income\n",
    "    ORDER BY number DESC\n",
    "    LIMIT 10\n",
    "\"\"\").show()"
   ]
  },
  {
   "cell_type": "markdown",
   "metadata": {},
   "source": [
    "2.\tWhat is the count of responders per geographical division/location and race (show top 10)?"
   ]
  },
  {
   "cell_type": "code",
   "execution_count": 32,
   "metadata": {},
   "outputs": [
    {
     "name": "stdout",
     "output_type": "stream",
     "text": [
      "+----------------------+----------+------+\n",
      "|geographic_information|      race|number|\n",
      "+----------------------+----------+------+\n",
      "|                 South|White Only| 34827|\n",
      "|                  West|White Only| 27557|\n",
      "|  Midwest (formerly...|White Only| 21209|\n",
      "|             Northeast|White Only| 16897|\n",
      "|                 South|Black Only|  8775|\n",
      "|                  West|Asian Only|  3447|\n",
      "|  Midwest (formerly...|Black Only|  2005|\n",
      "|             Northeast|Black Only|  1712|\n",
      "|                 South|Asian Only|  1483|\n",
      "|             Northeast|Asian Only|  1131|\n",
      "+----------------------+----------+------+\n",
      "\n"
     ]
    }
   ],
   "source": [
    "spark.sql(\"\"\"\n",
    "    SELECT geographic_information, race, COUNT(*) as number\n",
    "    FROM dec_cps\n",
    "    WHERE race IS NOT NULL\n",
    "    GROUP BY geographic_information, race\n",
    "    ORDER BY number DESC\n",
    "    LIMIT 10\n",
    "\"\"\").show()"
   ]
  },
  {
   "cell_type": "markdown",
   "metadata": {},
   "source": [
    "3.\tHow many responders do not have telephone in their house, but can access a telephone elsewhere and telephone interview is accepted (show top 10)?"
   ]
  },
  {
   "cell_type": "code",
   "execution_count": 33,
   "metadata": {},
   "outputs": [
    {
     "name": "stdout",
     "output_type": "stream",
     "text": [
      "+------+\n",
      "|number|\n",
      "+------+\n",
      "|   633|\n",
      "+------+\n",
      "\n"
     ]
    }
   ],
   "source": [
    "spark.sql(\"\"\"\n",
    "    SELECT COUNT(*) as number\n",
    "    FROM dec_cps\n",
    "    WHERE apartment_has_telephone = \"No\"\n",
    "    AND access_telephone_elsewhere = \"Yes\"\n",
    "    AND telephone_interview_acceptable = \"Yes\"\n",
    "\"\"\").show()"
   ]
  },
  {
   "attachments": {},
   "cell_type": "markdown",
   "metadata": {},
   "source": [
    "4.\tHow many responders have access to a telephone, but telephone interview is not accepted (show top 10)?"
   ]
  },
  {
   "cell_type": "code",
   "execution_count": 34,
   "metadata": {},
   "outputs": [
    {
     "name": "stdout",
     "output_type": "stream",
     "text": [
      "+------+\n",
      "|number|\n",
      "+------+\n",
      "|     0|\n",
      "+------+\n",
      "\n"
     ]
    }
   ],
   "source": [
    "spark.sql(\"\"\"\n",
    "    SELECT COUNT(*) as number\n",
    "    FROM dec_cps\n",
    "    WHERE apartment_has_telephone = \"Yes\"\n",
    "    AND access_telephone_elsewhere = \"Yes\"\n",
    "    AND telephone_interview_acceptable = \"No\"\n",
    "\"\"\").show()"
   ]
  },
  {
   "cell_type": "code",
   "execution_count": null,
   "metadata": {},
   "outputs": [],
   "source": []
  }
 ],
 "metadata": {
  "kernelspec": {
   "display_name": "Python 3",
   "language": "python",
   "name": "python3"
  },
  "language_info": {
   "codemirror_mode": {
    "name": "ipython",
    "version": 3
   },
   "file_extension": ".py",
   "mimetype": "text/x-python",
   "name": "python",
   "nbconvert_exporter": "python",
   "pygments_lexer": "ipython3",
   "version": "3.8.3"
  },
  "orig_nbformat": 4,
  "vscode": {
   "interpreter": {
    "hash": "b081a66ee97bd2b6a16f43955f1d810b7ea816d6eaeb65e157ef9e038445f0c6"
   }
  }
 },
 "nbformat": 4,
 "nbformat_minor": 2
}
